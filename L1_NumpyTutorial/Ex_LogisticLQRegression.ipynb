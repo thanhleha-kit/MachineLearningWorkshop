{
 "cells": [
  {
   "cell_type": "markdown",
   "metadata": {},
   "source": [
    "# <center> Exercise: L2-regularized Logistic Least Squares Regression </center>\n",
    "\n",
    "</br>\n",
    "On this exercise, you are going to apply what you learn from the <code>numpy</code> tutorial in the implementation of L2-regularized Logistic Least Squares Regression (LLSR). I will provide you the formula by now but you can look at that in the practical lecture, the computational graph part. First you should use pens and papers to vectorize them. Then you implement the full of the classifier based on your vectorized version.\n",
    "\n",
    "<img src=\"../Images/LogisticRegression.png\" style=\"width:298px;height:275px\">\n",
    "\n",
    "</br>\n",
    "L2-regularized Logistic Least Squares Regression is similar to the standard Logistic Regression: It is a binary classifier containing only one layer, mapping the input features to only one output using sigmoid function. The differents here are two things: </br>\n",
    "\n",
    "* Instead of the _binary crossentropy error_ for the loss, it uses the _squared error_.\n",
    "* It is applied the L2-regularization.\n",
    "\n",
    "Note that we will do an SGD training for this exercise. More specifically:\n",
    "* There are $m$ data instance on the training set, each has $n$ input features. \n",
    "* $x_{i}^{(j)}$ denotes the $i^{th}$ input feature of the $j^{th}$ data instance.\n",
    "* $y^{(j)}$ denotes the binary label ($0$ or $1$) of the $j^{th}$ data instance.\n",
    "* $w_{i}$ denotes the weight connecting the $i^{th}$ input feature to the output.\n",
    "* $b$ is the bias of the Logistic Least Squares Regression.\n",
    "\n",
    "So the steps of an unvectorized version are:\n",
    "* The weights are initialized using Xavier Initialization, the bias can be initialized as 0.\n",
    "* Train over 5 epochs, each epoch we do those steps:\n",
    "  *  Loop over every data instance $x^{(j)}$:\n",
    "     * Calculate the output of the LLSR: $o^{(j)} = \\sigma(\\sum_{i=1}^{n} w_ix_i^{(j)} + b)$\n",
    "     * Calculate the cost: squared error $c^{(j)} = (y^{(j)} - o^{(j)})^2$\n",
    "     * The final loss function is L2-regularized: $l^{(j)} = \\frac{1}{2}c^{(j)} + \\frac{\\lambda}{2}\\sum_{i=1}^{n}w_i^2$. \n",
    "     * Update the weights: \n",
    "         * Loop over every weight $w_i$ and update once at a time: $w_i = w_i - \\eta((o^{(j)}-y^{(j)})o^{(j)}(1-o^{(j)})x_i^{(j)} + \\lambda w_i)$\n",
    "     * Update the bias: $b = b - \\eta (o^{(j)}-y^{(j)})o^{(j)}(1-o^{(j)})$\n",
    "  *  Calculate the total loss (of the epoch): $L = \\frac{1}{m}\\sum_{j=1}^{m}l^{(j)}$. Print it out. \n"
   ]
  },
  {
   "cell_type": "markdown",
   "metadata": {},
   "source": [
    "The guideline is to avoid explicit for-loops. _Hint_: We cannot make the epoch loop disappears, but all other loops can be replaced by vectorization."
   ]
  },
  {
   "cell_type": "markdown",
   "metadata": {},
   "source": [
    "First, let's import numpy and math:"
   ]
  },
  {
   "cell_type": "code",
   "execution_count": 3,
   "metadata": {
    "collapsed": true
   },
   "outputs": [],
   "source": [
    "import numpy as np\n",
    "import math"
   ]
  },
  {
   "cell_type": "markdown",
   "metadata": {},
   "source": [
    "\n",
    "We will use LLSR for my MNIST_SEVEN task: _predict a $128\\times 128$-pixel image of a handwritten digit whether it is a \"7\" or not_. This is a binary classification task. I did the data reading for you. There are 5000 images, I split the first 4000 images for training, 500 images for tuning, 500 images for test. On this exercise we do not need to tune anything, so we'd leave the tuning (called the _dev set_) untouched. The first field is the label (\"0\"-\"9\") of the image, the rest are the grayscale value of each pixel. "
   ]
  },
  {
   "cell_type": "code",
   "execution_count": 5,
   "metadata": {},
   "outputs": [],
   "source": [
    "data_path = \"../Data/mnist_seven.csv\"\n",
    "data = np.genfromtxt(data_path, delimiter=\",\", dtype=\"uint8\")\n",
    "train, dev, test = data[:4000], data[4000:4500], data[4500:]"
   ]
  },
  {
   "cell_type": "code",
   "execution_count": null,
   "metadata": {},
   "outputs": [],
   "source": [
    "def normalize(dataset):\n",
    "    X = dataset[:, 1:] / 255.     # Normalize input features\n",
    "    Y = (dataset[:, 0] == 7) * 1  # Convert labels from 0-9 to Is7 (1) or IsNot7(0)\n",
    "    return X.T,Y.reshape(1, -1)"
   ]
  },
  {
   "cell_type": "code",
   "execution_count": null,
   "metadata": {},
   "outputs": [],
   "source": [
    "X_train, Y_train = normalize(train)\n",
    "print(X_train.shape)\n",
    "print(Y_train.shape)\n",
    "\n",
    "X_test, Y_test = normalize(test)\n",
    "print(X_test.shape)\n",
    "print(Y_test.shape)\n",
    "\n",
    "# shuffle the training data since we do SGD\n",
    "# we shuffle outside the training \n",
    "# since we want to compare unvectorized and vectorized versions\n",
    "# It doesn't affect to batch training later\n",
    "np.random.seed(8888)     # Do not change those seedings to make our results comparable\n",
    "np.random.shuffle(train) \n"
   ]
  },
  {
   "cell_type": "markdown",
   "metadata": {},
   "source": [
    "# Unvectorized Version of Stochastic Gradient Descent\n",
    "\n",
    "First the unvectorized version of training:"
   ]
  },
  {
   "cell_type": "code",
   "execution_count": null,
   "metadata": {
    "collapsed": true
   },
   "outputs": [],
   "source": [
    "def train_unvectorized(X_train, Y_train, lr=0.2, lambdar=0.0001, epochs=5):\n",
    "    \n",
    "    n = X_train.shape[0]\n",
    "    m = X_train.shape[1]\n",
    "    \n",
    "    # Xavier Initialization\n",
    "    np.random.seed(1234)\n",
    "    w = np.random.randn(n) * (np.sqrt(2. / (n + 1)))\n",
    "    b = 0\n",
    "\n",
    "    for epoch in range(epochs):\n",
    "        L = 0\n",
    "        for j in range(m):   # Loop over every training instance\n",
    "            # Forward pass\n",
    "            # CODE HERE\n",
    "\n",
    "            # Calculate the loss\n",
    "            # CODE HERE\n",
    "            \n",
    "            \n",
    "            # Backward pass and update the weights/bias\n",
    "            # CODE HERE\n",
    "        \n",
    "        # Accumulate the total loss and print it\n",
    "        L /= m\n",
    "        print(\"Error of the epoch {0}: {1}\".format(epoch + 1, L))\n",
    "    \n",
    "    return w, b\n",
    "        "
   ]
  },
  {
   "cell_type": "markdown",
   "metadata": {},
   "source": [
    "And the (unvectorized) inference:"
   ]
  },
  {
   "cell_type": "code",
   "execution_count": null,
   "metadata": {},
   "outputs": [],
   "source": [
    "def test_unvectorized(X_test, Y_test, w, b):\n",
    "    \n",
    "    n_test = X_test.shape[0]\n",
    "    m_test = X_test.shape[1]\n",
    "    corrects = 0\n",
    "    \n",
    "    for j in range(m_test):\n",
    "        \n",
    "        # Forward pass\n",
    "        # CODE HERE\n",
    "        \n",
    "        # Evaluate the outputs\n",
    "        # CODE HERE\n",
    "        \n",
    "        \n",
    "    print(\"Accuracy of our LLSR:\" + str((corrects * 100.) / m_test) + \"%\")\n",
    "    \n",
    "    return corrects\n"
   ]
  },
  {
   "cell_type": "markdown",
   "metadata": {},
   "source": [
    "Test on our test data. The accuracy should be better than 89.2%. This high score 89.2% is the baseline, achieved by do nothing rather than predicting all images are not a \"seven\" :p."
   ]
  },
  {
   "cell_type": "code",
   "execution_count": null,
   "metadata": {},
   "outputs": [],
   "source": [
    "w, b = train_unvectorized(X_train, Y_train)\n",
    "_ = test_unvectorized(X_test, Y_test, w, b)"
   ]
  },
  {
   "cell_type": "markdown",
   "metadata": {},
   "source": [
    "# Vectorized Version of Stochastic Gradient Descent\n",
    "\n",
    "Now we move to the vectorized version of training and inference, just replace for-loops and total-sums by $np.dot()$,  $np.sum()$ and the numpy pair-wise operations (you should do the vectorization using pens and papers first)."
   ]
  },
  {
   "cell_type": "code",
   "execution_count": null,
   "metadata": {
    "collapsed": true
   },
   "outputs": [],
   "source": [
    "def train_vectorized(X_train, Y_train, lr=0.2, lambdar=0.0001, epochs=5):\n",
    "    \n",
    "    n = X_train.shape[0]\n",
    "    m = X_train.shape[1]\n",
    "    \n",
    "    # Xavier Initialization\n",
    "    np.random.seed(1234)\n",
    "    w = np.random.randn(n) * (np.sqrt(2. / (n + 1)))\n",
    "    b = 0\n",
    "\n",
    "    for epoch in range(epochs):\n",
    "        L = 0\n",
    "        for j in range(m):\n",
    "\n",
    "            # Forward pass\n",
    "            # CODE HERE\n",
    "            \n",
    "            # Calculate the loss (for each instance - SGD) \n",
    "            # CODE HERE\n",
    "            \n",
    "            # Backward pass and update the weights/bias (for each instance - SGD) \n",
    "            # CODE HERE\n",
    "            \n",
    "        L /= m\n",
    "        print(\"Error of the epoch {0}: {1}\".format(epoch + 1, L))\n",
    "    return w, b"
   ]
  },
  {
   "cell_type": "markdown",
   "metadata": {},
   "source": [
    "And the vectorized inference (short, clear and fast):"
   ]
  },
  {
   "cell_type": "code",
   "execution_count": null,
   "metadata": {},
   "outputs": [],
   "source": [
    "def test_vectorized(X_test, Y_test, w, b):\n",
    "    \n",
    "    m_test = X_test.shape[1]\n",
    "    correct = None\n",
    "    \n",
    "    # CODE HERE\n",
    "    \n",
    "    print(\"Accuracy of our LLSR:\" + str((corrects * 100.) / m_test) + \"%\")\n",
    "    \n",
    "    return corrects\n"
   ]
  },
  {
   "cell_type": "markdown",
   "metadata": {},
   "source": [
    "Those following runs should return exact the same outputs like the (unvectorized) training and inference before but in less than a second. The vectorization should be more effective (much faster) if this is not an one-layer logistic regression but a deep network."
   ]
  },
  {
   "cell_type": "code",
   "execution_count": null,
   "metadata": {},
   "outputs": [],
   "source": [
    "w, b = train_vectorized(X_train, Y_train)\n",
    "_ = test_vectorized(X_test, Y_test, w, b)"
   ]
  },
  {
   "cell_type": "markdown",
   "metadata": {},
   "source": [
    "# Vectorized Version of Batch Gradient Descent \n",
    "\n",
    "Here is the fully vectorized version, batch training (vectorizing over training instances). The formula (you might be able to derive them after the next lecture):\n",
    "\n",
    "$$ z = w \\cdot X + b $$\n",
    "\n",
    "$$ o = \\sigma(z) $$\n",
    "\n",
    "$$ C = \\frac{1}{2m}\\sum_{j=1}^{m}(y^{(j)}-o^{(j)})^2 $$\n",
    "\n",
    "$$ R = \\frac{1}{2m}\\sum_{i=1}^{n}w_i^2 $$\n",
    "\n",
    "$$ L = C + \\lambda R $$\n",
    "\n",
    "$$ \\frac{\\partial C}{\\partial z^{(j)}} = \\frac{1}{m}(o^{(j)} - Y^{(j)}) * o^{(j)} * (1 - o^{(j)}) $$\n",
    "\n",
    "$$ \\frac{\\partial z^{(j)}}{\\partial w_i} = x_i $$\n",
    "\n",
    "$$ \\Rightarrow \\frac{\\partial C}{\\partial w} = \\frac{\\partial C}{\\partial z} \\cdot X^T $$\n",
    "\n",
    "$$ \\frac{\\partial R}{\\partial w} = \\frac{1}{m}w $$ \n",
    "\n",
    "$$ \\Rightarrow \\frac{\\partial L}{\\partial w} = \\frac{\\partial C}{\\partial w} + \\lambda\\frac{\\partial R}{\\partial w} $$\n",
    "\n",
    "$$ \\frac{\\partial z}{\\partial b} = 1 $$\n",
    "\n",
    "$$ \\Rightarrow \\frac{\\partial L}{\\partial b} = \\frac{\\partial C}{\\partial b} = \\sum_{j=1}^{m}(o^{(j)} - Y^{(j)}) * o^{(j)} * (1 - o^{(j)}) $$\n",
    "\n",
    "$$ w = w - \\eta * \\frac{\\partial L}{\\partial w} $$\n",
    "\n",
    "$$ b = b - \\eta *  \\frac{\\partial L}{\\partial b} $$"
   ]
  },
  {
   "cell_type": "code",
   "execution_count": null,
   "metadata": {},
   "outputs": [],
   "source": [
    "def train_batch(X_train, Y_train, lr=0.1, lambdar=0.0001, epochs=50):\n",
    "    \n",
    "    n = X_train.shape[0]\n",
    "    m = X_train.shape[1]\n",
    "\n",
    "    # Xavier Initialization\n",
    "    np.random.seed(1234)\n",
    "    w = np.random.randn(1, n) * (np.sqrt(2. / (n + 1)))\n",
    "    b = 0\n",
    "\n",
    "    for epoch in range(epochs):\n",
    "\n",
    "        # Forward pass\n",
    "        # CODE HERE\n",
    "\n",
    "        # Calculate the loss \n",
    "        # CODE HERE\n",
    "        \n",
    "        # Backward pass and update the weights/bias\n",
    "        # CODE HERE\n",
    "        \n",
    "        print(\"Error of the epoch {0}: {1}\".format(epoch + 1, L))\n",
    "        \n",
    "    return w, b\n",
    "        "
   ]
  },
  {
   "cell_type": "markdown",
   "metadata": {},
   "source": [
    "Since it is a batch training and requires different hyperparameters, the result might not be comparable to the SGD trainings above. "
   ]
  },
  {
   "cell_type": "code",
   "execution_count": null,
   "metadata": {},
   "outputs": [],
   "source": [
    "w_batch, b_batch = train_batch(X_train, Y_train, lr=2, lambdar=0.5, epochs=1000)\n",
    "_ = test_vectorized(X_test, Y_test, w_batch, b_batch)"
   ]
  },
  {
   "cell_type": "markdown",
   "metadata": {},
   "source": [
    "One thing to compare: the speed. Try to run the same number of epochs (1000) with SGD, vectorized training, you can see it still takes a long time to run compared to the fully batch training."
   ]
  },
  {
   "cell_type": "code",
   "execution_count": null,
   "metadata": {},
   "outputs": [],
   "source": [
    "w, b = train_vectorized(X_train, Y_train, epochs=1000)\n",
    "_ = test_vectorized(X_test, Y_test, w, b)"
   ]
  },
  {
   "cell_type": "markdown",
   "metadata": {},
   "source": [
    "# Vectorized Version of Minibatch Gradient Descent\n",
    "\n",
    "Finally, we can do minibatch training, it is the same as batch training (the formula) but one iteration runs over a subset of the whole dataset at a time, and those subsets (minibatches) are shuffle before training:"
   ]
  },
  {
   "cell_type": "code",
   "execution_count": null,
   "metadata": {},
   "outputs": [],
   "source": [
    "def train_minibatch(X_train, Y_train, batch_size=256, lr=0.1, lambdar=0.0001, epochs=50):\n",
    "    \n",
    "    n = X_train.shape[0]\n",
    "    \n",
    "    # Xavier Initialization\n",
    "    np.random.seed(1234)\n",
    "    w = np.random.randn(1, n) * (np.sqrt(2. / (n + 1)))\n",
    "    b = 0\n",
    "\n",
    "    for epoch in range(epochs):\n",
    "        \n",
    "        # Split into minibatches \n",
    "        # CODE HERE\n",
    "        \n",
    "        # We shuffle the minibatches of X and Y in the same way\n",
    "        # CODE HERE\n",
    "        \n",
    "        # Now we can do the training, we cannot vectorize over different minibatches\n",
    "        # They are like our \"epochs\"\n",
    "        for i in range(None): # CODE HERE\n",
    "            \n",
    "            # Extract a minibatch to do training\n",
    "            X_current = None # CODE HERE\n",
    "            Y_current = None # CODE HERE\n",
    "            m = X_current.shape[1]\n",
    "\n",
    "            # Forward pass\n",
    "            # CODE HERE  \n",
    "\n",
    "            # Calculate the loss \n",
    "            # CODE HERE\n",
    "\n",
    "            # Backward pass and update the weights/bias\n",
    "            # CODE HERE\n",
    "\n",
    "            print(\"Error of the iteration {0}: {1}\".format(epoch * B + i + 1, L))\n",
    "\n",
    "    return w, b"
   ]
  },
  {
   "cell_type": "markdown",
   "metadata": {},
   "source": [
    "Minibatch Training for this LLSR is very sensitive to hyperparameter choosing. Should use with early stopping. Do not supprise if the accurary is bad. Shuffling the minibatch also takes time, so do not run this with large number of epochs."
   ]
  },
  {
   "cell_type": "code",
   "execution_count": null,
   "metadata": {},
   "outputs": [],
   "source": [
    "# Do not run this for more than 100 epochs!!!!!!!!!\n",
    "w_minibatch, b_minibatch = train_minibatch(X_train, Y_train, batch_size=512, lr=0.001, lambdar=0.0001, epochs=30)\n",
    "_ = test_vectorized(X_test, Y_test, w_minibatch, b_minibatch)"
   ]
  }
 ],
 "metadata": {
  "kernelspec": {
   "display_name": "Python 3",
   "language": "python",
   "name": "python3"
  },
  "language_info": {
   "codemirror_mode": {
    "name": "ipython",
    "version": 3
   },
   "file_extension": ".py",
   "mimetype": "text/x-python",
   "name": "python",
   "nbconvert_exporter": "python",
   "pygments_lexer": "ipython3",
   "version": "3.6.7"
  }
 },
 "nbformat": 4,
 "nbformat_minor": 1
}
