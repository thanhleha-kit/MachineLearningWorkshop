{
 "cells": [
  {
   "cell_type": "markdown",
   "metadata": {},
   "source": [
    "# <center> Numpy Tutorial </center>\n",
    "\n",
    "</br>\n",
    "<code>Numpy</code> is a python library dedicated for working with multi-dimentional arrays. On this exercise, you are warming up with <code>Numpy</code>, especially with multi-dimentional arrays and how to vectorize your deep learning algorithm. Many methods from Deep Learning (DL) frameworks like <code>TensorFlow</code> or <code>Pytorch</code> work in the similar way to <code>Numpy</code> methods, so being familiar with <code>Numpy</code> brings you great advantages. Furthermore, some parts/modules/phases of your NN applications/projects would use <code>Numpy</code> rather than the DL frameworks. Often, <code>Numpy</code> and DL codes are mixed in your implementation and you need to know when to use <code>Numpy</code> and when to use your DL frameworks.   \n",
    "\n",
    "</br> </br>\n",
    "You will learn to: </br>\n",
    "*  Work with __multi-dimentional arrays__\n",
    "*  Understand what is __broadcasting__ and how to make use of it (and how to avoid unwanted broadcasting)\n",
    "*  Use `random` package\n",
    "*  Do __vectorization__\n",
    "\n"
   ]
  },
  {
   "cell_type": "markdown",
   "metadata": {},
   "source": [
    "First, let's import `Numpy` and explore some basic methods: "
   ]
  },
  {
   "cell_type": "code",
   "execution_count": 1,
   "metadata": {},
   "outputs": [],
   "source": [
    "import numpy as np\n",
    "import matplotlib.pyplot as plt\n",
    "\n",
    "%matplotlib inline"
   ]
  },
  {
   "cell_type": "markdown",
   "metadata": {},
   "source": [
    "I assume that you are familiar with some basic numpy methods, or at least know how to look them up on the internet. Now we will focus on linear algebra.\n",
    "# 1. Multi-dimentional Arrays"
   ]
  },
  {
   "cell_type": "code",
   "execution_count": 2,
   "metadata": {},
   "outputs": [
    {
     "name": "stdout",
     "output_type": "stream",
     "text": [
      "An array:\n",
      "[3 2]\n",
      "Shape of a: (note the weird shape)\n",
      "(2,)\n",
      "==================================\n",
      "A row vector:\n",
      "[[3 2]]\n",
      "Shape of x:\n",
      "(1, 2)\n",
      "==================================\n",
      "A column vector:\n",
      "[[3]\n",
      " [2]]\n",
      "Shape of y:\n",
      "(2, 1)\n"
     ]
    }
   ],
   "source": [
    "a = np.array([3, 2])\n",
    "print(\"An array:\")\n",
    "print(a)\n",
    "print(\"Shape of a: (note the weird shape)\")\n",
    "print(a.shape)\n",
    "print(\"==================================\")\n",
    "x = np.array([[3, 2]])\n",
    "print(\"A row vector:\")\n",
    "print(x)\n",
    "print(\"Shape of x:\")\n",
    "print(x.shape)\n",
    "print(\"==================================\")\n",
    "y = np.array([[3], [2]])\n",
    "print(\"A column vector:\")\n",
    "print(y)\n",
    "print(\"Shape of y:\")\n",
    "print(y.shape)"
   ]
  },
  {
   "cell_type": "markdown",
   "metadata": {},
   "source": [
    "Note the differences, while 1D arrays and vectors are mathematically similar concepts, in deep learning, we prefer to _understand vector as a matrix with either one row or one column_, not the 1D array.  "
   ]
  },
  {
   "cell_type": "code",
   "execution_count": 3,
   "metadata": {},
   "outputs": [
    {
     "name": "stdout",
     "output_type": "stream",
     "text": [
      "This is a matrix\n",
      "[[ 3  2]\n",
      " [-1  3]]\n",
      "Shape of X:\n",
      "(2, 2)\n"
     ]
    }
   ],
   "source": [
    "X = np.array([[3, 2], [-1, 3]])\n",
    "print(\"This is a matrix\")\n",
    "print(X)\n",
    "print(\"Shape of X:\")\n",
    "print(X.shape)"
   ]
  },
  {
   "cell_type": "markdown",
   "metadata": {},
   "source": [
    "Let's reshape the matrix $X$ to be a vector (or sometimes we call it __flattening__: making a multi-dimensional array becomes a vector):"
   ]
  },
  {
   "cell_type": "code",
   "execution_count": 4,
   "metadata": {},
   "outputs": [
    {
     "name": "stdout",
     "output_type": "stream",
     "text": [
      "[[ 3  2 -1  3]]\n",
      "[[ 3  2 -1  3]]\n"
     ]
    }
   ],
   "source": [
    "print(X.reshape(1,4))\n",
    "print(X.reshape(1,-1)) # Notice the -1"
   ]
  },
  {
   "cell_type": "markdown",
   "metadata": {},
   "source": [
    "__Notes__:\n",
    "  1. At this time we work with vectors and matrices, so at the moment, you can think about printing out those to see them and understanding them as rows and columns __only for now__. Soon, however, we will work with multi-dimensional $n$-dim arrays ($n \\geq 3$), so do not heavily rely on your intuitions in the 2D or 3D space.\n",
    "  2. In deep learning/machine learning, any vector should not be understood as a vector in a __geometric__ world but it is a __physical__ vector, i.e. a specific state of some attributes of an object, or an ordered list of attribute values in the __computer science__ world. For example, [2, 3, 100, 30000] is a vector denoting a house's attributes: it has 2 bathrooms, 3 bedrooms, its area is 100 squared meters and it costs 30000 EUR. And this understanding should be expanded to the more general multi-dimensional arrays. Another example: the 2D array, or matrix above, [[3, 2], [-1, 3]], might denote the grayscale values of a $2 \\times 2$-pixel image, but it might denote the weight matrix between a 2-neuron layer and another 2-neuron layer in a deep neural network, so again, _do not heavily rely on your intuitions in the 2D or 3D space_.\n",
    "\n",
    "Let's get used to this way of thinking by doing array slicing.\n",
    "  \n",
    "  "
   ]
  },
  {
   "cell_type": "markdown",
   "metadata": {},
   "source": [
    "## Slicing"
   ]
  },
  {
   "cell_type": "markdown",
   "metadata": {},
   "source": [
    "When I started using `python`, I found slicing very useful. I have a numpy (1D) array or some python list, and I can use slicing to extract continuous elements of that array, similar but less convenient than chossing some page range to print in the PDF printing dialog:"
   ]
  },
  {
   "cell_type": "code",
   "execution_count": 5,
   "metadata": {
    "collapsed": true
   },
   "outputs": [],
   "source": [
    "a = np.arange(2,12)"
   ]
  },
  {
   "cell_type": "code",
   "execution_count": 6,
   "metadata": {},
   "outputs": [
    {
     "data": {
      "text/plain": [
       "array([ 2,  3,  4,  5,  6,  7,  8,  9, 10, 11])"
      ]
     },
     "execution_count": 6,
     "metadata": {},
     "output_type": "execute_result"
    }
   ],
   "source": [
    "a"
   ]
  },
  {
   "cell_type": "code",
   "execution_count": 7,
   "metadata": {},
   "outputs": [
    {
     "data": {
      "text/plain": [
       "array([5, 6, 7, 8, 9])"
      ]
     },
     "execution_count": 7,
     "metadata": {},
     "output_type": "execute_result"
    }
   ],
   "source": [
    "a[3:8] # Extract a subarray from the 3rd element to (but not include) the 8th one."
   ]
  },
  {
   "cell_type": "code",
   "execution_count": 8,
   "metadata": {},
   "outputs": [
    {
     "name": "stdout",
     "output_type": "stream",
     "text": [
      "all\n"
     ]
    }
   ],
   "source": [
    "my_string = \"Hallo\"\n",
    "my_substring = my_string[1:4] # instead of using some string.substring() function, if it even exists!\n",
    "print(my_substring)"
   ]
  },
  {
   "cell_type": "markdown",
   "metadata": {},
   "source": [
    "<img src=\"../Images/MatrixSlicing2.png\" style=\"width:276px;height:282px\">\n"
   ]
  },
  {
   "cell_type": "markdown",
   "metadata": {},
   "source": [
    "2D arrays a.k.a matrices? No problem! First slice the rows (blue cells), then the columns in those rows (green cells):"
   ]
  },
  {
   "cell_type": "code",
   "execution_count": 9,
   "metadata": {},
   "outputs": [
    {
     "name": "stdout",
     "output_type": "stream",
     "text": [
      "[[ 1 -1]\n",
      " [ 5  7]]\n"
     ]
    }
   ],
   "source": [
    "a = np.array([[1, 8, -3, 0], [2, 1, -1, 5], [6, 5, 7, 1], [-2, -1, 1,4]])\n",
    "print(a[1:3,1:3])"
   ]
  },
  {
   "cell_type": "markdown",
   "metadata": {},
   "source": [
    "Only care about the rows (blue) or the columns (yellow)? "
   ]
  },
  {
   "cell_type": "code",
   "execution_count": 10,
   "metadata": {},
   "outputs": [
    {
     "name": "stdout",
     "output_type": "stream",
     "text": [
      "[[ 2  1 -1  5]\n",
      " [ 6  5  7  1]]\n",
      "[[ 8 -3]\n",
      " [ 1 -1]\n",
      " [ 5  7]\n",
      " [-1  1]]\n"
     ]
    }
   ],
   "source": [
    "print(a[1:3,:]) # take all the columns in the sliced rows\n",
    "print(a[:,1:3]) # take all the rows in the sliced columns"
   ]
  },
  {
   "cell_type": "markdown",
   "metadata": {
    "caption": "My created matrix"
   },
   "source": [
    "<img src=\"../Images/3DMatrixSlicing.png\" style=\"width:366px;height:360px\">"
   ]
  },
  {
   "cell_type": "markdown",
   "metadata": {},
   "source": [
    "3D arrays? Like an image with its width, height and RGB channels? More difficult but still manage to do. Below is to extract the Green channel (the second channel), and it becomes the matrix similar to the above matrix, and we can continue our slicing as we wish: "
   ]
  },
  {
   "cell_type": "code",
   "execution_count": 8,
   "metadata": {},
   "outputs": [
    {
     "data": {
      "text/plain": [
       "array([[[ 1,  1,  1],\n",
       "        [ 2,  2,  2],\n",
       "        [ 6,  6,  6],\n",
       "        [-2, -2, -2]],\n",
       "\n",
       "       [[ 8,  8,  8],\n",
       "        [ 1,  1,  1],\n",
       "        [ 5,  5,  5],\n",
       "        [-1, -1, -1]],\n",
       "\n",
       "       [[-3, -3, -3],\n",
       "        [-1, -1, -1],\n",
       "        [ 7,  7,  7],\n",
       "        [ 1,  1,  1]],\n",
       "\n",
       "       [[ 0,  0,  0],\n",
       "        [ 5,  5,  5],\n",
       "        [ 1,  1,  1],\n",
       "        [ 4,  4,  4]]])"
      ]
     },
     "execution_count": 8,
     "metadata": {},
     "output_type": "execute_result"
    }
   ],
   "source": [
    "a = np.array([[1, 8, -3, 0], [2, 1, -1, 5], [6, 5, 7, 1], [-2, -1, 1,4]])\n",
    "a = np.tile(a, (3,1,1)).T\n",
    "a"
   ]
  },
  {
   "cell_type": "code",
   "execution_count": 9,
   "metadata": {},
   "outputs": [
    {
     "data": {
      "text/plain": [
       "<matplotlib.image.AxesImage at 0x7f24d4b1e278>"
      ]
     },
     "execution_count": 9,
     "metadata": {},
     "output_type": "execute_result"
    },
    {
     "data": {
      "image/png": "[encoded data removed]",
      "text/plain": [
       "<Figure size 432x288 with 1 Axes>"
      ]
     },
     "metadata": {
      "needs_background": "light"
     },
     "output_type": "display_data"
    }
   ],
   "source": [
    "plt.imshow(np.maximum(a/np.max(a),0))"
   ]
  },
  {
   "cell_type": "code",
   "execution_count": 10,
   "metadata": {},
   "outputs": [
    {
     "name": "stdout",
     "output_type": "stream",
     "text": [
      "[[ 1  2  6 -2]\n",
      " [ 8  1  5 -1]\n",
      " [-3 -1  7  1]\n",
      " [ 0  5  1  4]]\n"
     ]
    }
   ],
   "source": [
    "print(a[:,:,1]) # Get the green channel (every values for width and height)"
   ]
  },
  {
   "cell_type": "code",
   "execution_count": 11,
   "metadata": {},
   "outputs": [
    {
     "data": {
      "text/plain": [
       "array([[[ 1,  0,  1],\n",
       "        [ 2,  0,  2],\n",
       "        [ 6,  0,  6],\n",
       "        [-2,  0, -2]],\n",
       "\n",
       "       [[ 8,  0,  8],\n",
       "        [ 1,  0,  1],\n",
       "        [ 5,  0,  5],\n",
       "        [-1,  0, -1]],\n",
       "\n",
       "       [[-3,  0, -3],\n",
       "        [-1,  0, -1],\n",
       "        [ 7,  0,  7],\n",
       "        [ 1,  0,  1]],\n",
       "\n",
       "       [[ 0,  0,  0],\n",
       "        [ 5,  0,  5],\n",
       "        [ 1,  0,  1],\n",
       "        [ 4,  0,  4]]])"
      ]
     },
     "execution_count": 11,
     "metadata": {},
     "output_type": "execute_result"
    }
   ],
   "source": [
    "a[:,:,1] = np.zeros((4,4)) # Set the green channel to all 0s\n",
    "a"
   ]
  },
  {
   "cell_type": "code",
   "execution_count": 12,
   "metadata": {},
   "outputs": [
    {
     "data": {
      "text/plain": [
       "<matplotlib.image.AxesImage at 0x7f24d4a9e400>"
      ]
     },
     "execution_count": 12,
     "metadata": {},
     "output_type": "execute_result"
    },
    {
     "data": {
      "image/png": "[encoded data removed]",
      "text/plain": [
       "<Figure size 432x288 with 1 Axes>"
      ]
     },
     "metadata": {
      "needs_background": "light"
     },
     "output_type": "display_data"
    }
   ],
   "source": [
    "plt.imshow(np.maximum(a/np.max(a),0)) # red + blue = pink"
   ]
  },
  {
   "cell_type": "markdown",
   "metadata": {},
   "source": [
    "Now bunch of images like that? Should be a 4-dim array, the first one is the number of images. And then extract the green channel of the $m^{th}$ image:"
   ]
  },
  {
   "cell_type": "code",
   "execution_count": 13,
   "metadata": {},
   "outputs": [],
   "source": [
    "a = np.array([[1, 8, -3, 0], [2, 1, -1, 5], [6, 5, 7, 1], [-2, -1, 1,4]])\n",
    "a = np.tile(a, (3,1,1)).T\n",
    "a = np.tile(a, (50,1,1,1))"
   ]
  },
  {
   "cell_type": "code",
   "execution_count": 14,
   "metadata": {},
   "outputs": [
    {
     "name": "stdout",
     "output_type": "stream",
     "text": [
      "[[ 1  2  6 -2]\n",
      " [ 8  1  5 -1]\n",
      " [-3 -1  7  1]\n",
      " [ 0  5  1  4]]\n"
     ]
    }
   ],
   "source": [
    "print(a[5,:,:,1]) # Get the green channel (every values for width and height) of the $5^{th}$ image"
   ]
  },
  {
   "cell_type": "markdown",
   "metadata": {},
   "source": [
    "You see? Don't think the first dimension as rows, or axis x, the second as column, or axis y, but just associate the dimensions with your concrete coordinate: the first one denoting a concrete image in your image set, the second one is something about width (actually the width index of a specific pixel), the last one is the different channel and so on. This way of thinking could also applied for cross-dimensional operations like the `numpy.sum()` and other aggregation operations. "
   ]
  },
  {
   "cell_type": "markdown",
   "metadata": {},
   "source": [
    "## Axes on aggregation functions"
   ]
  },
  {
   "cell_type": "markdown",
   "metadata": {},
   "source": [
    "When you use $numpy.sum()$, just stop for a second and think, which thing I want to sum now, then set the axis correspondingly. For example, what if we want to sum up the pixel intensities across the channels (the last dimension)?        "
   ]
  },
  {
   "cell_type": "code",
   "execution_count": 16,
   "metadata": {},
   "outputs": [
    {
     "name": "stdout",
     "output_type": "stream",
     "text": [
      "(50, 4, 4)\n"
     ]
    },
    {
     "data": {
      "text/plain": [
       "array([[[ 3,  6, 18, -6],\n",
       "        [24,  3, 15, -3],\n",
       "        [-9, -3, 21,  3],\n",
       "        [ 0, 15,  3, 12]],\n",
       "\n",
       "       [[ 3,  6, 18, -6],\n",
       "        [24,  3, 15, -3],\n",
       "        [-9, -3, 21,  3],\n",
       "        [ 0, 15,  3, 12]],\n",
       "\n",
       "       [[ 3,  6, 18, -6],\n",
       "        [24,  3, 15, -3],\n",
       "        [-9, -3, 21,  3],\n",
       "        [ 0, 15,  3, 12]],\n",
       "\n",
       "       [[ 3,  6, 18, -6],\n",
       "        [24,  3, 15, -3],\n",
       "        [-9, -3, 21,  3],\n",
       "        [ 0, 15,  3, 12]],\n",
       "\n",
       "       [[ 3,  6, 18, -6],\n",
       "        [24,  3, 15, -3],\n",
       "        [-9, -3, 21,  3],\n",
       "        [ 0, 15,  3, 12]],\n",
       "\n",
       "       [[ 3,  6, 18, -6],\n",
       "        [24,  3, 15, -3],\n",
       "        [-9, -3, 21,  3],\n",
       "        [ 0, 15,  3, 12]],\n",
       "\n",
       "       [[ 3,  6, 18, -6],\n",
       "        [24,  3, 15, -3],\n",
       "        [-9, -3, 21,  3],\n",
       "        [ 0, 15,  3, 12]],\n",
       "\n",
       "       [[ 3,  6, 18, -6],\n",
       "        [24,  3, 15, -3],\n",
       "        [-9, -3, 21,  3],\n",
       "        [ 0, 15,  3, 12]],\n",
       "\n",
       "       [[ 3,  6, 18, -6],\n",
       "        [24,  3, 15, -3],\n",
       "        [-9, -3, 21,  3],\n",
       "        [ 0, 15,  3, 12]],\n",
       "\n",
       "       [[ 3,  6, 18, -6],\n",
       "        [24,  3, 15, -3],\n",
       "        [-9, -3, 21,  3],\n",
       "        [ 0, 15,  3, 12]],\n",
       "\n",
       "       [[ 3,  6, 18, -6],\n",
       "        [24,  3, 15, -3],\n",
       "        [-9, -3, 21,  3],\n",
       "        [ 0, 15,  3, 12]],\n",
       "\n",
       "       [[ 3,  6, 18, -6],\n",
       "        [24,  3, 15, -3],\n",
       "        [-9, -3, 21,  3],\n",
       "        [ 0, 15,  3, 12]],\n",
       "\n",
       "       [[ 3,  6, 18, -6],\n",
       "        [24,  3, 15, -3],\n",
       "        [-9, -3, 21,  3],\n",
       "        [ 0, 15,  3, 12]],\n",
       "\n",
       "       [[ 3,  6, 18, -6],\n",
       "        [24,  3, 15, -3],\n",
       "        [-9, -3, 21,  3],\n",
       "        [ 0, 15,  3, 12]],\n",
       "\n",
       "       [[ 3,  6, 18, -6],\n",
       "        [24,  3, 15, -3],\n",
       "        [-9, -3, 21,  3],\n",
       "        [ 0, 15,  3, 12]],\n",
       "\n",
       "       [[ 3,  6, 18, -6],\n",
       "        [24,  3, 15, -3],\n",
       "        [-9, -3, 21,  3],\n",
       "        [ 0, 15,  3, 12]],\n",
       "\n",
       "       [[ 3,  6, 18, -6],\n",
       "        [24,  3, 15, -3],\n",
       "        [-9, -3, 21,  3],\n",
       "        [ 0, 15,  3, 12]],\n",
       "\n",
       "       [[ 3,  6, 18, -6],\n",
       "        [24,  3, 15, -3],\n",
       "        [-9, -3, 21,  3],\n",
       "        [ 0, 15,  3, 12]],\n",
       "\n",
       "       [[ 3,  6, 18, -6],\n",
       "        [24,  3, 15, -3],\n",
       "        [-9, -3, 21,  3],\n",
       "        [ 0, 15,  3, 12]],\n",
       "\n",
       "       [[ 3,  6, 18, -6],\n",
       "        [24,  3, 15, -3],\n",
       "        [-9, -3, 21,  3],\n",
       "        [ 0, 15,  3, 12]],\n",
       "\n",
       "       [[ 3,  6, 18, -6],\n",
       "        [24,  3, 15, -3],\n",
       "        [-9, -3, 21,  3],\n",
       "        [ 0, 15,  3, 12]],\n",
       "\n",
       "       [[ 3,  6, 18, -6],\n",
       "        [24,  3, 15, -3],\n",
       "        [-9, -3, 21,  3],\n",
       "        [ 0, 15,  3, 12]],\n",
       "\n",
       "       [[ 3,  6, 18, -6],\n",
       "        [24,  3, 15, -3],\n",
       "        [-9, -3, 21,  3],\n",
       "        [ 0, 15,  3, 12]],\n",
       "\n",
       "       [[ 3,  6, 18, -6],\n",
       "        [24,  3, 15, -3],\n",
       "        [-9, -3, 21,  3],\n",
       "        [ 0, 15,  3, 12]],\n",
       "\n",
       "       [[ 3,  6, 18, -6],\n",
       "        [24,  3, 15, -3],\n",
       "        [-9, -3, 21,  3],\n",
       "        [ 0, 15,  3, 12]],\n",
       "\n",
       "       [[ 3,  6, 18, -6],\n",
       "        [24,  3, 15, -3],\n",
       "        [-9, -3, 21,  3],\n",
       "        [ 0, 15,  3, 12]],\n",
       "\n",
       "       [[ 3,  6, 18, -6],\n",
       "        [24,  3, 15, -3],\n",
       "        [-9, -3, 21,  3],\n",
       "        [ 0, 15,  3, 12]],\n",
       "\n",
       "       [[ 3,  6, 18, -6],\n",
       "        [24,  3, 15, -3],\n",
       "        [-9, -3, 21,  3],\n",
       "        [ 0, 15,  3, 12]],\n",
       "\n",
       "       [[ 3,  6, 18, -6],\n",
       "        [24,  3, 15, -3],\n",
       "        [-9, -3, 21,  3],\n",
       "        [ 0, 15,  3, 12]],\n",
       "\n",
       "       [[ 3,  6, 18, -6],\n",
       "        [24,  3, 15, -3],\n",
       "        [-9, -3, 21,  3],\n",
       "        [ 0, 15,  3, 12]],\n",
       "\n",
       "       [[ 3,  6, 18, -6],\n",
       "        [24,  3, 15, -3],\n",
       "        [-9, -3, 21,  3],\n",
       "        [ 0, 15,  3, 12]],\n",
       "\n",
       "       [[ 3,  6, 18, -6],\n",
       "        [24,  3, 15, -3],\n",
       "        [-9, -3, 21,  3],\n",
       "        [ 0, 15,  3, 12]],\n",
       "\n",
       "       [[ 3,  6, 18, -6],\n",
       "        [24,  3, 15, -3],\n",
       "        [-9, -3, 21,  3],\n",
       "        [ 0, 15,  3, 12]],\n",
       "\n",
       "       [[ 3,  6, 18, -6],\n",
       "        [24,  3, 15, -3],\n",
       "        [-9, -3, 21,  3],\n",
       "        [ 0, 15,  3, 12]],\n",
       "\n",
       "       [[ 3,  6, 18, -6],\n",
       "        [24,  3, 15, -3],\n",
       "        [-9, -3, 21,  3],\n",
       "        [ 0, 15,  3, 12]],\n",
       "\n",
       "       [[ 3,  6, 18, -6],\n",
       "        [24,  3, 15, -3],\n",
       "        [-9, -3, 21,  3],\n",
       "        [ 0, 15,  3, 12]],\n",
       "\n",
       "       [[ 3,  6, 18, -6],\n",
       "        [24,  3, 15, -3],\n",
       "        [-9, -3, 21,  3],\n",
       "        [ 0, 15,  3, 12]],\n",
       "\n",
       "       [[ 3,  6, 18, -6],\n",
       "        [24,  3, 15, -3],\n",
       "        [-9, -3, 21,  3],\n",
       "        [ 0, 15,  3, 12]],\n",
       "\n",
       "       [[ 3,  6, 18, -6],\n",
       "        [24,  3, 15, -3],\n",
       "        [-9, -3, 21,  3],\n",
       "        [ 0, 15,  3, 12]],\n",
       "\n",
       "       [[ 3,  6, 18, -6],\n",
       "        [24,  3, 15, -3],\n",
       "        [-9, -3, 21,  3],\n",
       "        [ 0, 15,  3, 12]],\n",
       "\n",
       "       [[ 3,  6, 18, -6],\n",
       "        [24,  3, 15, -3],\n",
       "        [-9, -3, 21,  3],\n",
       "        [ 0, 15,  3, 12]],\n",
       "\n",
       "       [[ 3,  6, 18, -6],\n",
       "        [24,  3, 15, -3],\n",
       "        [-9, -3, 21,  3],\n",
       "        [ 0, 15,  3, 12]],\n",
       "\n",
       "       [[ 3,  6, 18, -6],\n",
       "        [24,  3, 15, -3],\n",
       "        [-9, -3, 21,  3],\n",
       "        [ 0, 15,  3, 12]],\n",
       "\n",
       "       [[ 3,  6, 18, -6],\n",
       "        [24,  3, 15, -3],\n",
       "        [-9, -3, 21,  3],\n",
       "        [ 0, 15,  3, 12]],\n",
       "\n",
       "       [[ 3,  6, 18, -6],\n",
       "        [24,  3, 15, -3],\n",
       "        [-9, -3, 21,  3],\n",
       "        [ 0, 15,  3, 12]],\n",
       "\n",
       "       [[ 3,  6, 18, -6],\n",
       "        [24,  3, 15, -3],\n",
       "        [-9, -3, 21,  3],\n",
       "        [ 0, 15,  3, 12]],\n",
       "\n",
       "       [[ 3,  6, 18, -6],\n",
       "        [24,  3, 15, -3],\n",
       "        [-9, -3, 21,  3],\n",
       "        [ 0, 15,  3, 12]],\n",
       "\n",
       "       [[ 3,  6, 18, -6],\n",
       "        [24,  3, 15, -3],\n",
       "        [-9, -3, 21,  3],\n",
       "        [ 0, 15,  3, 12]],\n",
       "\n",
       "       [[ 3,  6, 18, -6],\n",
       "        [24,  3, 15, -3],\n",
       "        [-9, -3, 21,  3],\n",
       "        [ 0, 15,  3, 12]],\n",
       "\n",
       "       [[ 3,  6, 18, -6],\n",
       "        [24,  3, 15, -3],\n",
       "        [-9, -3, 21,  3],\n",
       "        [ 0, 15,  3, 12]]])"
      ]
     },
     "execution_count": 16,
     "metadata": {},
     "output_type": "execute_result"
    }
   ],
   "source": [
    "print(np.sum(a, axis=3).shape)\n",
    "np.sum(a, axis=3)"
   ]
  },
  {
   "cell_type": "markdown",
   "metadata": {},
   "source": [
    "Now what if we want to find the \"average\" image? We'd do the sum of pixel intensities through all the images and divide to the number of images. Since we duplicated 1 image 50 times, the average image is exactly our initial image: "
   ]
  },
  {
   "cell_type": "code",
   "execution_count": 17,
   "metadata": {},
   "outputs": [
    {
     "name": "stdout",
     "output_type": "stream",
     "text": [
      "(4, 4, 3)\n"
     ]
    },
    {
     "data": {
      "text/plain": [
       "array([[[ 1.,  1.,  1.],\n",
       "        [ 2.,  2.,  2.],\n",
       "        [ 6.,  6.,  6.],\n",
       "        [-2., -2., -2.]],\n",
       "\n",
       "       [[ 8.,  8.,  8.],\n",
       "        [ 1.,  1.,  1.],\n",
       "        [ 5.,  5.,  5.],\n",
       "        [-1., -1., -1.]],\n",
       "\n",
       "       [[-3., -3., -3.],\n",
       "        [-1., -1., -1.],\n",
       "        [ 7.,  7.,  7.],\n",
       "        [ 1.,  1.,  1.]],\n",
       "\n",
       "       [[ 0.,  0.,  0.],\n",
       "        [ 5.,  5.,  5.],\n",
       "        [ 1.,  1.,  1.],\n",
       "        [ 4.,  4.,  4.]]])"
      ]
     },
     "execution_count": 17,
     "metadata": {},
     "output_type": "execute_result"
    }
   ],
   "source": [
    "print((np.sum(a, axis=(0))/50).shape)\n",
    "np.sum(a, axis=(0))/50"
   ]
  },
  {
   "cell_type": "markdown",
   "metadata": {},
   "source": [
    "What if we want to aggregate the pixel intensities across the channels (the last dimension) and also all of the images?"
   ]
  },
  {
   "cell_type": "code",
   "execution_count": 18,
   "metadata": {},
   "outputs": [
    {
     "data": {
      "text/plain": [
       "array([[ 150,  300,  900, -300],\n",
       "       [1200,  150,  750, -150],\n",
       "       [-450, -150, 1050,  150],\n",
       "       [   0,  750,  150,  600]])"
      ]
     },
     "execution_count": 18,
     "metadata": {},
     "output_type": "execute_result"
    }
   ],
   "source": [
    "np.sum(a, axis=(0,3))"
   ]
  },
  {
   "cell_type": "markdown",
   "metadata": {},
   "source": [
    "# 2. Broadcasting"
   ]
  },
  {
   "cell_type": "markdown",
   "metadata": {},
   "source": [
    "**Broadcasting** in `Numpy` refers to the implicit compatiblization when doing array arithmetics on different-shaped vectors/matrices. Of course it is a feature, not an error. If you are familiar with `Matlab/Octave`, this one is the one you feel `Matlab/Octave` are lacking of. Broadcasting makes the code more succinct and clear."
   ]
  },
  {
   "cell_type": "markdown",
   "metadata": {
    "collapsed": true
   },
   "source": [
    "Let's go to a specific example:"
   ]
  },
  {
   "cell_type": "code",
   "execution_count": 21,
   "metadata": {
    "collapsed": true
   },
   "outputs": [],
   "source": [
    "a = np.array([[2, 1, -1, 0]]) # A row vector with the shape (1,4)\n",
    "b = 2 # A scalar value\n",
    "# What is a + b? Is it compatible to add a vector and a scalar?"
   ]
  },
  {
   "cell_type": "code",
   "execution_count": 22,
   "metadata": {},
   "outputs": [
    {
     "name": "stdout",
     "output_type": "stream",
     "text": [
      "a + b:\n",
      "[[4 3 1 2]]\n",
      "True\n",
      "[2 2 2 2]\n",
      "[[4 3 1 2]]\n",
      "True\n"
     ]
    }
   ],
   "source": [
    "c = a + b\n",
    "print(\"a + b:\")\n",
    "print(c)\n",
    "print(a.shape==c.shape)\n",
    "brd_b = np.array([2, 2, 2, 2]) # brd_b = np.repeat(b, 4, axis=0)\n",
    "print(brd_b)\n",
    "print(c)\n",
    "print(np.array_equal(a + b, a + brd_b))\n"
   ]
  },
  {
   "cell_type": "markdown",
   "metadata": {},
   "source": [
    "So $b$ is broadcasted from a scalar to the vector having the same shape of $a$ by copying the scalar value ($2$) along the broadcasted dimension to make the addition possible and compatible. The similar thing happened to matrix and vector addition or the addition of 2 multi-dimensional numpy arrays:"
   ]
  },
  {
   "cell_type": "code",
   "execution_count": 23,
   "metadata": {},
   "outputs": [
    {
     "name": "stdout",
     "output_type": "stream",
     "text": [
      "X:\n",
      "[[1 2 3]\n",
      " [4 5 6]\n",
      " [7 8 9]]\n",
      "d:\n",
      "[[ 1 -1  1]]\n",
      "X + d: (d is broadcasted along the first dimension)\n",
      "[[ 2  1  4]\n",
      " [ 5  4  7]\n",
      " [ 8  7 10]]\n",
      "\n",
      "========================\n",
      "d:\n",
      "[[ 1]\n",
      " [-1]\n",
      " [ 1]]\n",
      "X + d: (d is broadcasted along the second dimension)\n",
      "[[ 2  3  4]\n",
      " [ 3  4  5]\n",
      " [ 8  9 10]]\n"
     ]
    }
   ],
   "source": [
    "X = np.arange(1,10).reshape(3,3)\n",
    "print(\"X:\")\n",
    "print(X)\n",
    "d = np.array([1,-1,1]).reshape(1,-1)  # Note how we reshaped d \n",
    "print(\"d:\")\n",
    "print(d)\n",
    "print(\"X + d: (d is broadcasted along the first dimension)\")\n",
    "print(X + d) \n",
    "print(\"\\n========================\")\n",
    "d = np.array([1,-1,1]).reshape(-1,1)  # Note how we reshaped d \n",
    "print(\"d:\")\n",
    "print(d)\n",
    "print(\"X + d: (d is broadcasted along the second dimension)\")\n",
    "print(X + d)"
   ]
  },
  {
   "cell_type": "markdown",
   "metadata": {},
   "source": [
    "And did you notice that when we \"calculated\" the average image in Section 1, we use broadcasting, but rather for the division of $m=50$ images than the addition? "
   ]
  },
  {
   "cell_type": "markdown",
   "metadata": {},
   "source": [
    "In Deep Learning, the most obvious application of broadcasting might be when you calculate $Z = Wx + b$. Here, $Wx$  (the _dot product_ of $W$ and $x$) is a matrix and $b$ is a vector, so in a normal programming language, we should duplicate or repeat b several times along a suitable dimension to make the addition compatible, but broadcasting reduces that step. The general rules of broadcasting are fully mentioned here: https://docs.scipy.org/doc/numpy-1.13.0/user/basics.broadcasting.html"
   ]
  },
  {
   "cell_type": "markdown",
   "metadata": {},
   "source": [
    "Broadcasting is extremely useful. However, since it allows some array arithmetics compatible even when the operands have incompatible shape, be careful with it. In the (binary) logistic regression code of the course Neuronale Netze, because we have only one output neuron, the weight matrix $W$ is actually a vector, and the bias $b$ is a scalar. Hence, some of you might initialize $b$ as a scalar. But when we generalize the logistic regression to produce multiple outputs for some multi-class classification problems, $b$ here should be a vector. Then if you initialized it as a scalar, the code still runs, but we have some __logical error__ here, which is difficult to find and debug. The scalar $b$ is broadcasted to be a $m\\times n$-matrix with the same scalar value, but it should be a $m\\times n$-matrix consisting of $m$ same $n$-vectors (with $n$ different scalar values). In other programming languages without broadcasting, an incompatible-shaped error might be raised instead."
   ]
  },
  {
   "cell_type": "markdown",
   "metadata": {},
   "source": [
    "## Example: Feature Normalization\n",
    "From my practical lecture, you know that gradient-based learning would be better and faster if the input features are normalized. In this example we will implement two normalization methods mentioned in the lecture: Min-Max Normalization and Standardization and you will see how broadcasting is useful.\n",
    "\n",
    "First, let's look at some aggregation (statistics) methods using numpy:"
   ]
  },
  {
   "cell_type": "code",
   "execution_count": 24,
   "metadata": {},
   "outputs": [
    {
     "name": "stdout",
     "output_type": "stream",
     "text": [
      "[ 0  2  4  6  8 10 12 14 16 18]\n",
      "Min: 0\n",
      "Max: 18\n",
      "Mean: 9.0\n",
      "Standard Deviation: 5.74456264654\n",
      "Norm of vector a: 33.7638860323\n"
     ]
    }
   ],
   "source": [
    "a = np.arange(20, step=2)\n",
    "print(a)\n",
    "print(\"Min: \" + str(a.min()))\n",
    "print(\"Max: \" + str(a.max()))\n",
    "print(\"Mean: \" + str(a.mean()))\n",
    "print(\"Standard Deviation: \" + str(a.std()))\n",
    "print(\"Norm of vector a: \" + str(np.linalg.norm(a)))\n"
   ]
  },
  {
   "cell_type": "markdown",
   "metadata": {},
   "source": [
    "__Min-Max Normalization__ (or __Rescaling__ to [0,1] range):\n",
    "$$x' = \\displaystyle\\frac{x - min(x)}{max(x) - min(x)}$$\n",
    "<br/>\n",
    "Note that $x$ here is a vector of input features, $min(x)$ and $max(x)$ are both scalars. Broadcasting allows us to simply do the normalization without replicating $min(x)$ or $max(x)$ to be a vector of same shape with $x$:\n"
   ]
  },
  {
   "cell_type": "code",
   "execution_count": 25,
   "metadata": {},
   "outputs": [
    {
     "name": "stdout",
     "output_type": "stream",
     "text": [
      "[[ 0.13060818]\n",
      " [ 0.00398804]\n",
      " [ 0.        ]\n",
      " [ 0.00498504]\n",
      " [ 0.00338983]\n",
      " [ 1.        ]]\n"
     ]
    },
    {
     "data": {
      "text/plain": [
       "<Container object of 6 artists>"
      ]
     },
     "execution_count": 25,
     "metadata": {},
     "output_type": "execute_result"
    },
    {
     "data": {
      "image/png": "[encoded data removed]",
      "text/plain": [
       "<matplotlib.figure.Figure at 0x7f8514703a20>"
      ]
     },
     "metadata": {},
     "output_type": "display_data"
    }
   ],
   "source": [
    "x = np.array([128, 1, -3, 2, 0.4, 1000]).reshape(-1,1)\n",
    "x_prime = (x - x.min()) / (x.max() - x.min())\n",
    "print(x_prime)\n",
    "plt.bar(range(x.shape[0]), x_prime.ravel())"
   ]
  },
  {
   "cell_type": "markdown",
   "metadata": {},
   "source": [
    "__Standardization__:\n",
    "\n",
    "You can see from the chart that Min-Max Normalization is not a good normalization for gradient-based learning if the features are in very different ranges like the one above. Standardization is better: \n",
    "\n",
    "$$x' = \\displaystyle\\frac{x - \\bar{x}}{\\sigma(x)}$$\n",
    "<br/>\n",
    "Here $\\bar{x}$ is the mean of x and $\\sigma(x)$ is the standard deviation.\n"
   ]
  },
  {
   "cell_type": "code",
   "execution_count": 26,
   "metadata": {},
   "outputs": [
    {
     "name": "stdout",
     "output_type": "stream",
     "text": [
      "[[-0.16407088]\n",
      " [-0.51096881]\n",
      " [-0.52189473]\n",
      " [-0.50823733]\n",
      " [-0.5126077 ]\n",
      " [ 2.21777945]]\n"
     ]
    },
    {
     "data": {
      "text/plain": [
       "<Container object of 6 artists>"
      ]
     },
     "execution_count": 26,
     "metadata": {},
     "output_type": "execute_result"
    },
    {
     "data": {
      "image/png": "[encoded data removed]",
      "text/plain": [
       "<matplotlib.figure.Figure at 0x7f85147085f8>"
      ]
     },
     "metadata": {},
     "output_type": "display_data"
    }
   ],
   "source": [
    "x = np.array([128, 1, -3, 2, 0.4, 1000]).reshape(-1,1)\n",
    "x_std = (x - x.mean()) / x.std()\n",
    "print(x_std)\n",
    "plt.bar(range(x.shape[0]), x_std.ravel())"
   ]
  },
  {
   "cell_type": "markdown",
   "metadata": {
    "collapsed": true
   },
   "source": [
    "# 3. Using `random` package"
   ]
  },
  {
   "cell_type": "markdown",
   "metadata": {},
   "source": [
    "Generating a random value or an array of random values is very important in deep learning, for example when we want to initialize the weights of our neural network, use dropout or sample the result of the output distribution. We use `numpy.random` package to generate an array of random values instead of looping through the random generation of one variable.  "
   ]
  },
  {
   "cell_type": "markdown",
   "metadata": {},
   "source": [
    "Generate a matrix (2D array) of random numbers sampled from the standard normal distribution:"
   ]
  },
  {
   "cell_type": "code",
   "execution_count": 27,
   "metadata": {},
   "outputs": [
    {
     "name": "stdout",
     "output_type": "stream",
     "text": [
      "[[-0.51650205  0.05601802 -0.17984873  0.7505282 ]\n",
      " [-0.0848192  -1.1942876  -0.22380902 -0.20657443]]\n"
     ]
    }
   ],
   "source": [
    "print(np.random.randn(2,4)) # You should use this for your weight initialization"
   ]
  },
  {
   "cell_type": "markdown",
   "metadata": {},
   "source": [
    "Generate a $2 \\times 4$ matrix (2D array) of random numbers in range [0,1) sampled from the (continuous) uniform distribution:"
   ]
  },
  {
   "cell_type": "code",
   "execution_count": 28,
   "metadata": {
    "scrolled": true
   },
   "outputs": [
    {
     "name": "stdout",
     "output_type": "stream",
     "text": [
      "[[ 0.11938232  0.8288025   0.57535542  0.00764013]\n",
      " [ 0.79724711  0.67976423  0.19586306  0.88521971]]\n"
     ]
    }
   ],
   "source": [
    "print(np.random.rand(2,4))"
   ]
  },
  {
   "cell_type": "markdown",
   "metadata": {},
   "source": [
    "Generate a random integer number between 0 and 9 uniformly:"
   ]
  },
  {
   "cell_type": "code",
   "execution_count": 29,
   "metadata": {},
   "outputs": [
    {
     "name": "stdout",
     "output_type": "stream",
     "text": [
      "3\n"
     ]
    }
   ],
   "source": [
    "print(np.random.randint(0,10)) # note the upper limit"
   ]
  },
  {
   "cell_type": "markdown",
   "metadata": {},
   "source": [
    "Get a permutation of a list or an array:\n"
   ]
  },
  {
   "cell_type": "code",
   "execution_count": 30,
   "metadata": {},
   "outputs": [
    {
     "name": "stdout",
     "output_type": "stream",
     "text": [
      "[ 3  2 -4 -6  1]\n",
      "[[6 7 8]\n",
      " [0 1 2]\n",
      " [3 4 5]]\n"
     ]
    }
   ],
   "source": [
    "print(np.random.permutation([1, -4, 3, 2, -6]))\n",
    "\n",
    "arr = np.arange(9).reshape((3, 3))\n",
    "print(np.random.permutation(arr))"
   ]
  },
  {
   "cell_type": "markdown",
   "metadata": {},
   "source": [
    "The random algorithm used for all of the methods above is a _pseudo random generating algorithm_. It is based on some initial state, or \"_seed_\" to generate random numbers. If you do not specify the seed, it can take some number elsewhere to be the seed. But if we specify the same seed every time we generate random numbers, those numbers will be the same. It is good for many cases, for example, replicating exactly the result of your neural network training even you randomly initialized your weights."
   ]
  },
  {
   "cell_type": "code",
   "execution_count": 31,
   "metadata": {},
   "outputs": [
    {
     "name": "stdout",
     "output_type": "stream",
     "text": [
      "When we do not specify the seed:\n",
      "0\n",
      "5\n",
      "8\n",
      "When we specify the same seed:\n",
      "7\n",
      "7\n",
      "7\n",
      "When we specify different seeds:\n",
      "5\n",
      "8\n",
      "9\n"
     ]
    }
   ],
   "source": [
    "print(\"When we do not specify the seed:\")\n",
    "for i in range(3):\n",
    "    print(np.random.randint(0,10))\n",
    "print(\"When we specify the same seed:\")\n",
    "for i in range(3):\n",
    "    np.random.seed(1111) # set the same seed 1111 before every random generation\n",
    "    print(np.random.randint(0,10))\n",
    "print(\"When we specify different seeds:\")\n",
    "for i in range(3):\n",
    "    np.random.seed(i * 3)\n",
    "    print(np.random.randint(0,10))"
   ]
  },
  {
   "cell_type": "markdown",
   "metadata": {},
   "source": [
    "## Example: Xavier Initialization and He Initialization\n",
    "\n",
    "For a neural network to learn well, beside feature normalization and other things, we also need proper weight initialization: the weights should be randomly initialized, or at least different numbers (to break the symmetry), and they should be small. Sometimes, simply we use the factor of 0.1 to initialize our network:\n"
   ]
  },
  {
   "cell_type": "code",
   "execution_count": 32,
   "metadata": {},
   "outputs": [
    {
     "name": "stdout",
     "output_type": "stream",
     "text": [
      "[[ 0.10049173 -0.0525626   0.076034  ]\n",
      " [ 0.2423819  -0.17956434 -0.08857829]]\n"
     ]
    }
   ],
   "source": [
    "n_in = 3 # the number of neurons from the previous layer\n",
    "n_out = 2 # the number of neurons from the current layer\n",
    "W = np.random.randn(n_out, n_in) * (0.1) \n",
    "print(W)"
   ]
  },
  {
   "cell_type": "markdown",
   "metadata": {},
   "source": [
    "However, a constant factor $\\alpha = 0.1$ is not good for all layer architectures. Often, __Xavier initialization__[[Glorot and Bengio, 2010](https://arxiv.org/pdf/1207.0580.pdf)] or __He initialization__[[He et al., 2015](https://www.cv-foundation.org/openaccess/content_iccv_2015/papers/He_Delving_Deep_into_ICCV_2015_paper.pdf)] is better, when they take the size of the layers into account (and to be more precisely, they also consider the activation functions)."
   ]
  },
  {
   "cell_type": "markdown",
   "metadata": {},
   "source": [
    "__Xavier initialization__:\n",
    "    \n",
    "$$\\alpha = \\displaystyle\\sqrt{\\frac{2}{n_{in} + n_{out}}}$$\n",
    "\n",
    "It's good when use with `sigmoid` or `tanh` activation functions."
   ]
  },
  {
   "cell_type": "code",
   "execution_count": 33,
   "metadata": {},
   "outputs": [
    {
     "name": "stdout",
     "output_type": "stream",
     "text": [
      "[[-0.64820888  1.28386704  0.08342666]\n",
      " [ 1.0910627   1.16949752  0.63448025]]\n"
     ]
    }
   ],
   "source": [
    "n_in = 3 # the number of neurons from the previous layer\n",
    "n_out = 2 # the number of neurons from the current layer\n",
    "W = np.random.randn(n_out, n_in) * (np.sqrt(2. / (n_in + n_out)))  # Xavier initialization\n",
    "print(W)"
   ]
  },
  {
   "cell_type": "markdown",
   "metadata": {},
   "source": [
    "__He initialization__:\n",
    "    \n",
    "$$\\alpha = \\displaystyle\\sqrt{\\frac{1}{n_{in}}}$$\n",
    "\n",
    "It's good when use with `ReLU` activation function."
   ]
  },
  {
   "cell_type": "code",
   "execution_count": 34,
   "metadata": {},
   "outputs": [
    {
     "name": "stdout",
     "output_type": "stream",
     "text": [
      "[[ 0.57193044 -0.13193541  0.50646769]\n",
      " [ 0.36645759  0.51891838  0.58659554]]\n"
     ]
    }
   ],
   "source": [
    "n_in = 3 # the number of neurons from the previous layer\n",
    "n_out = 2 # the number of neurons from the current layer\n",
    "W = np.random.randn(n_out, n_in) * (np.sqrt(1. / n_in))  # He initialization\n",
    "print(W)"
   ]
  },
  {
   "cell_type": "markdown",
   "metadata": {},
   "source": [
    "__Note__: The intuition behind those initialization methods comes from the fact that we try to force the distribution of the output in the current layer is close as much as possible to that of the input so that the learning is easier. Of course when doing so, we need to consider the activation function, _fan in_ (number of neurons from the previous layer), _fan out_ (number of neurons from the current layer) and even how we choose randomly number. For more intuition about those initializations, feel free to read this: http://andyljones.tumblr.com/post/110998971763/an-explanation-of-xavier-initialization. And you might also want to look at the following table from https://mnsgrg.com/2017/12/21/xavier-initialization/:\n",
    "\n",
    "<img src=\"../Images/initializations.png\" style=\"width:900px;height:248px\">\n"
   ]
  },
  {
   "cell_type": "markdown",
   "metadata": {},
   "source": [
    "\n",
    "## Example: Sampling from Softmax Distribution\n",
    "\n",
    "In the output layer of a multi-class classifier, we often use `softmax` and choose the output that has the maximal output probability. It is not always the case, especially with sequence modeling problems. Sometimes we would like to draw from that distribution. Let's see how to do this using the `random` package.\n",
    "\n",
    "Assume that we have three possible outputs '$a$', '$b$', '$c$', for example, the output of an one-character handwritten recognition. The softmax layer produced the following distribution: $p$('a' $|$ input) = $0.3$, $p$('b' $|$ input) = $0.6$, $p$('c' $|$ input) = $0.1$ (note that sum of those probabilities is 1). How to sample from this distribution given the random methods we know?\n",
    "\n",
    "The most intuitive solution is generate a random number in [0, 1), say $r$. If $r < 0.3 = p$('a' $|$ input), we generate 'a', if $ 0.3 \\leq r < 0.9 = p$('a' $|$ input) $+$ $p$('b' $|$ input), we generate 'b', elsewhere ($ 0.9 \\leq r < 1 = p$('a' $|$ input) $+$ $p$('b' $|$ input) $+$ $p$('c' $|$ input), we generate 'c'. "
   ]
  },
  {
   "cell_type": "code",
   "execution_count": 35,
   "metadata": {},
   "outputs": [
    {
     "name": "stdout",
     "output_type": "stream",
     "text": [
      "['b', 'a', 'c', 'b', 'a', 'b', 'c', 'a', 'b', 'b']\n",
      "Counter({'b': 59900, 'a': 30184, 'c': 9916})\n"
     ]
    }
   ],
   "source": [
    "def sm_sample(pa = 0.3, pb = 0.6, pc = 0.1):\n",
    "\n",
    "    r = np.random.rand()\n",
    "    if (r < pa):\n",
    "        output = 'a'\n",
    "    elif (r < pa + pb):\n",
    "        output = 'b'\n",
    "    else:\n",
    "        output = 'c'\n",
    "    return output\n",
    "\n",
    "outputs = []\n",
    "for i in range(10):\n",
    "    outputs.append(sm_sample())\n",
    "print(outputs)\n",
    "\n",
    "outputs = []\n",
    "# Law of large numbers: 100000 is large enough for our sample to approximate the true distribution\n",
    "for i in range(100000):  \n",
    "    outputs.append(sm_sample())\n",
    "\n",
    "from collections import Counter\n",
    "c_list = Counter(outputs)\n",
    "print(c_list) "
   ]
  },
  {
   "cell_type": "markdown",
   "metadata": {},
   "source": [
    "The code above is just for illustration. If there are many possible outputs (not just 3 like in this case), we need to loop through the ifs. Fortunately, the random package has this sampling method already: `numpy.random.choice`:"
   ]
  },
  {
   "cell_type": "code",
   "execution_count": 36,
   "metadata": {},
   "outputs": [
    {
     "name": "stdout",
     "output_type": "stream",
     "text": [
      "['c', 'b', 'b', 'a', 'c', 'a', 'b', 'b', 'a', 'b']\n",
      "Counter({'b': 60044, 'a': 29928, 'c': 10028})\n"
     ]
    }
   ],
   "source": [
    "def sm_sample_general(out, smp):\n",
    "    # out contains possible outputs\n",
    "    # smp contains the softmax output distributions\n",
    "    return np.random.choice(out, p = smp)\n",
    "\n",
    "out = ['a', 'b', 'c']\n",
    "smp=np.array([0.3, 0.6, 0.1])\n",
    "\n",
    "outputs = []\n",
    "for i in range(10):\n",
    "    outputs.append(sm_sample_general(out, smp))\n",
    "print(outputs)\n",
    "\n",
    "outputs = []\n",
    "# Law of large numbers: 100000 is large enough for our sample to approximate the true distribution\n",
    "for i in range(100000):  \n",
    "    outputs.append(sm_sample_general(out, smp))\n",
    "\n",
    "from collections import Counter\n",
    "c_list = Counter(outputs)\n",
    "print(c_list) "
   ]
  },
  {
   "cell_type": "markdown",
   "metadata": {},
   "source": [
    "# 4. Vectorization"
   ]
  },
  {
   "cell_type": "markdown",
   "metadata": {},
   "source": [
    "<img src=\"../Images/dotparallelize.png\" style=\"width:939px;height:289px\">"
   ]
  },
  {
   "cell_type": "markdown",
   "metadata": {},
   "source": [
    "`Numpy` processes arrays much more faster and effectively than their python counterparts like lists since they are greatly optimized. __Thus, we should vectorize and avoid using loops as much as possible__. Let's compare two ways of calculating dot product between two vectors:"
   ]
  },
  {
   "cell_type": "code",
   "execution_count": 37,
   "metadata": {
    "collapsed": true
   },
   "outputs": [],
   "source": [
    "# The normal for-loop\n",
    "def my_dot(a, b):\n",
    "    out = 0\n",
    "    #assert(a.shape[0]==b.shape[0])\n",
    "    for i in range(a.shape[0]):\n",
    "        out += a[i] * b[i]\n",
    "    return out"
   ]
  },
  {
   "cell_type": "code",
   "execution_count": 38,
   "metadata": {
    "collapsed": true
   },
   "outputs": [],
   "source": [
    "np.random.seed(1111)\n",
    "n = 1000\n",
    "a = np.random.randn(n)\n",
    "b = np.random.randn(n)"
   ]
  },
  {
   "cell_type": "code",
   "execution_count": 39,
   "metadata": {},
   "outputs": [
    {
     "name": "stdout",
     "output_type": "stream",
     "text": [
      "100 loops, best of 3: 645 µs per loop\n"
     ]
    }
   ],
   "source": [
    "%%timeit -n 100\n",
    "# The for-loop one\n",
    "my_dot(a,b)"
   ]
  },
  {
   "cell_type": "code",
   "execution_count": 40,
   "metadata": {},
   "outputs": [
    {
     "name": "stdout",
     "output_type": "stream",
     "text": [
      "4.8233238027\n",
      "4.8233238027\n",
      "4.8233238027\n",
      "4.8233238027\n",
      "4.8233238027\n",
      "4.8233238027\n",
      "4.8233238027\n",
      "4.8233238027\n",
      "4.8233238027\n",
      "4.8233238027\n",
      "4.8233238027\n",
      "4.8233238027\n",
      "4.8233238027\n",
      "4.8233238027\n",
      "4.8233238027\n",
      "4.8233238027\n",
      "4.8233238027\n",
      "4.8233238027\n",
      "4.8233238027\n",
      "4.8233238027\n",
      "4.8233238027\n",
      "4.8233238027\n",
      "4.8233238027\n",
      "4.8233238027\n",
      "4.8233238027\n",
      "4.8233238027\n",
      "4.8233238027\n",
      "4.8233238027\n",
      "4.8233238027\n",
      "4.8233238027\n",
      "4.8233238027\n",
      "4.8233238027\n",
      "4.8233238027\n",
      "4.8233238027\n",
      "4.8233238027\n",
      "4.8233238027\n",
      "4.8233238027\n",
      "4.8233238027\n",
      "4.8233238027\n",
      "4.8233238027\n",
      "4.8233238027\n",
      "4.8233238027\n",
      "4.8233238027\n",
      "4.8233238027\n",
      "4.8233238027\n",
      "4.8233238027\n",
      "4.8233238027\n",
      "4.8233238027\n",
      "4.8233238027\n",
      "4.8233238027\n",
      "4.8233238027\n",
      "4.8233238027\n",
      "4.8233238027\n",
      "4.8233238027\n",
      "4.8233238027\n",
      "4.8233238027\n",
      "4.8233238027\n",
      "4.8233238027\n",
      "4.8233238027\n",
      "4.8233238027\n",
      "4.8233238027\n",
      "4.8233238027\n",
      "4.8233238027\n",
      "4.8233238027\n",
      "4.8233238027\n",
      "4.8233238027\n",
      "4.8233238027\n",
      "4.8233238027\n",
      "4.8233238027\n",
      "4.8233238027\n",
      "4.8233238027\n",
      "4.8233238027\n",
      "4.8233238027\n",
      "4.8233238027\n",
      "4.8233238027\n",
      "4.8233238027\n",
      "4.8233238027\n",
      "4.8233238027\n",
      "4.8233238027\n",
      "4.8233238027\n",
      "4.8233238027\n",
      "4.8233238027\n",
      "4.8233238027\n",
      "4.8233238027\n",
      "4.8233238027\n",
      "4.8233238027\n",
      "4.8233238027\n",
      "4.8233238027\n",
      "4.8233238027\n",
      "4.8233238027\n",
      "4.8233238027\n",
      "4.8233238027\n",
      "4.8233238027\n",
      "4.8233238027\n",
      "4.8233238027\n",
      "4.8233238027\n",
      "4.8233238027\n",
      "4.8233238027\n",
      "4.8233238027\n",
      "4.8233238027\n",
      "4.8233238027\n",
      "4.8233238027\n",
      "4.8233238027\n",
      "4.8233238027\n",
      "4.8233238027\n",
      "4.8233238027\n",
      "4.8233238027\n",
      "4.8233238027\n",
      "4.8233238027\n",
      "4.8233238027\n",
      "4.8233238027\n",
      "4.8233238027\n",
      "4.8233238027\n",
      "4.8233238027\n",
      "4.8233238027\n",
      "4.8233238027\n",
      "4.8233238027\n",
      "4.8233238027\n",
      "4.8233238027\n",
      "4.8233238027\n",
      "4.8233238027\n",
      "4.8233238027\n",
      "4.8233238027\n",
      "4.8233238027\n",
      "4.8233238027\n",
      "4.8233238027\n",
      "4.8233238027\n",
      "4.8233238027\n",
      "4.8233238027\n",
      "4.8233238027\n",
      "4.8233238027\n",
      "4.8233238027\n",
      "4.8233238027\n",
      "4.8233238027\n",
      "4.8233238027\n",
      "4.8233238027\n",
      "4.8233238027\n",
      "4.8233238027\n",
      "4.8233238027\n",
      "4.8233238027\n",
      "4.8233238027\n",
      "4.8233238027\n",
      "4.8233238027\n",
      "4.8233238027\n",
      "4.8233238027\n",
      "4.8233238027\n",
      "4.8233238027\n",
      "4.8233238027\n",
      "4.8233238027\n",
      "4.8233238027\n",
      "4.8233238027\n",
      "4.8233238027\n",
      "4.8233238027\n",
      "4.8233238027\n",
      "4.8233238027\n",
      "4.8233238027\n",
      "4.8233238027\n",
      "4.8233238027\n",
      "4.8233238027\n",
      "4.8233238027\n",
      "4.8233238027\n",
      "4.8233238027\n",
      "4.8233238027\n",
      "4.8233238027\n",
      "4.8233238027\n",
      "4.8233238027\n",
      "4.8233238027\n",
      "4.8233238027\n",
      "4.8233238027\n",
      "4.8233238027\n",
      "4.8233238027\n",
      "4.8233238027\n",
      "4.8233238027\n",
      "4.8233238027\n",
      "4.8233238027\n",
      "4.8233238027\n",
      "4.8233238027\n",
      "4.8233238027\n",
      "4.8233238027\n",
      "4.8233238027\n",
      "4.8233238027\n",
      "4.8233238027\n",
      "4.8233238027\n",
      "4.8233238027\n",
      "4.8233238027\n",
      "4.8233238027\n",
      "4.8233238027\n",
      "4.8233238027\n",
      "4.8233238027\n",
      "4.8233238027\n",
      "4.8233238027\n",
      "4.8233238027\n",
      "4.8233238027\n",
      "4.8233238027\n",
      "4.8233238027\n",
      "4.8233238027\n",
      "4.8233238027\n",
      "4.8233238027\n",
      "4.8233238027\n",
      "4.8233238027\n",
      "4.8233238027\n",
      "4.8233238027\n",
      "4.8233238027\n",
      "4.8233238027\n",
      "4.8233238027\n",
      "4.8233238027\n",
      "4.8233238027\n",
      "4.8233238027\n",
      "4.8233238027\n",
      "4.8233238027\n",
      "4.8233238027\n",
      "4.8233238027\n",
      "4.8233238027\n",
      "4.8233238027\n",
      "4.8233238027\n",
      "4.8233238027\n",
      "4.8233238027\n",
      "4.8233238027\n",
      "4.8233238027\n",
      "4.8233238027\n",
      "4.8233238027\n",
      "4.8233238027\n",
      "4.8233238027\n",
      "4.8233238027\n",
      "4.8233238027\n",
      "4.8233238027\n",
      "4.8233238027\n",
      "4.8233238027\n",
      "4.8233238027\n",
      "4.8233238027\n",
      "4.8233238027\n",
      "4.8233238027\n",
      "4.8233238027\n",
      "4.8233238027\n",
      "4.8233238027\n",
      "4.8233238027\n",
      "4.8233238027\n",
      "4.8233238027\n",
      "4.8233238027\n",
      "4.8233238027\n",
      "4.8233238027\n",
      "4.8233238027\n",
      "4.8233238027\n",
      "4.8233238027\n",
      "4.8233238027\n",
      "4.8233238027\n",
      "4.8233238027\n",
      "4.8233238027\n",
      "4.8233238027\n",
      "4.8233238027\n",
      "4.8233238027\n",
      "4.8233238027\n",
      "4.8233238027\n",
      "4.8233238027\n",
      "4.8233238027\n",
      "4.8233238027\n",
      "4.8233238027\n",
      "4.8233238027\n",
      "4.8233238027\n",
      "4.8233238027\n",
      "4.8233238027\n",
      "4.8233238027\n",
      "4.8233238027\n",
      "4.8233238027\n",
      "4.8233238027\n",
      "4.8233238027\n",
      "4.8233238027\n",
      "4.8233238027\n",
      "4.8233238027\n",
      "4.8233238027\n",
      "4.8233238027\n",
      "4.8233238027\n",
      "4.8233238027\n",
      "4.8233238027\n",
      "4.8233238027\n",
      "4.8233238027\n",
      "4.8233238027\n",
      "4.8233238027\n",
      "4.8233238027\n",
      "4.8233238027\n",
      "4.8233238027\n",
      "4.8233238027\n",
      "4.8233238027\n",
      "4.8233238027\n",
      "4.8233238027\n",
      "4.8233238027\n",
      "4.8233238027\n",
      "4.8233238027\n",
      "4.8233238027\n",
      "4.8233238027\n",
      "4.8233238027\n",
      "4.8233238027\n",
      "4.8233238027\n",
      "4.8233238027\n",
      "4.8233238027\n",
      "4.8233238027\n",
      "4.8233238027\n",
      "4.8233238027\n",
      "4.8233238027\n",
      "4.8233238027\n",
      "100 loops, best of 3: 40.9 µs per loop\n"
     ]
    }
   ],
   "source": [
    "%%timeit -n 100\n",
    "# The numpy one\n",
    "print(np.dot(a,b))"
   ]
  },
  {
   "cell_type": "markdown",
   "metadata": {},
   "source": [
    "As you see, the for-loop way is much slower than the numpy one when we calculated the dot product between two 1000-dim vectors. Feel free to change n to bigger numbers, for example 5000, and you can see the gap is even bigger. "
   ]
  },
  {
   "cell_type": "markdown",
   "metadata": {},
   "source": [
    "To help you build the nature adaption from for-loop operations to vectorization, let's try to classify the algebra arithmetic operations and focus on how to vectorize them. Besides some numpy array initialization functions, there are three main types of those operations: element-wise operations between two arrays (or I could call it _pair-wise_), _element-wise application_ of a function on an array and an _aggregation_ operations on an array. "
   ]
  },
  {
   "cell_type": "markdown",
   "metadata": {},
   "source": [
    "__Pair-wise__: \n",
    "<br/>\n",
    "The element-wise arithmetic operation between two same-shape arrays (also counted the broadcasted array, so be careful). This one is quite easy to vectorize: $ u + v $, $ u * v $, $ numpy.maximum(u,v)$ (element-wise get the max, different from $ numpy.max(u) $),...\n",
    "<br/>\n",
    "<br/>\n",
    "__Element-wise application__: \n",
    "<br/>\n",
    "This one is similar to the other one, just find some numpy built-in function supporting vectorization, e.g. $np.exp(u)$, $np.tanh(u)$ (but numpy does not have the built-in $sigmoid(u)$, you can use $np.exp(u)$ to do that).\n",
    "<br/>\n",
    "<br/>\n",
    "__Aggregation function__: \n",
    "<br/>\n",
    "The operations belonging to this one often follows the __pair-wise__ (e.g., in $np.dot$) and they are the most difficult ones since we have to choose the correct axis to aggregate in case the array is multi-dimensional. Another notice is that you should not wrongly take them as their similar pair-wise functions. Let's go through the following example. \n",
    "\n",
    "\n"
   ]
  },
  {
   "cell_type": "markdown",
   "metadata": {},
   "source": [
    "## Example: Hidden Layer Weight Update\n",
    "<br/>\n",
    "In the Back Propagation algorithm for an MLP with a <code>softmax</code> output layer and a <code>cross entropy error</code>, the update rule for the weights of a hidden layer is written something like this:"
   ]
  },
  {
   "cell_type": "markdown",
   "metadata": {},
   "source": [
    "Calculate the error terms: $\\delta_j = o_j(1-o_j) \\displaystyle\\sum_{k \\in Downstream(j)}\\delta_kw_{kj}$, then $w_{ij} = w_{ij} + \\eta\\delta_jx_{ji}$"
   ]
  },
  {
   "cell_type": "markdown",
   "metadata": {},
   "source": [
    "__How to vectorize those two steps?__ \n",
    "<br/>\n",
    "  1. The first tricky part is $\\displaystyle\\sum_{k \\in Downstream(j)}\\delta_kw_{kj}$, we know it must be a dot product between $w_{kj}$ (the next layer's weights) and $\\delta_k$ (the error terms of the next layer - in _backprop_, it means we already have those error terms calculated). But what is the first argument of $np.dot()$ and what is the second argument? Doing trial and error on the compatibility of the shape? No, just assume that _you have to do the vectorization using pens and papers only_! This depends on your convention of input feature vector $\\textbf{x}$: whether it is a column vector or a row vector. Just assume that your convention says $\\textbf{x}$ is a column vector with the shape $(n,1)$, $n$ is the number of features. Then when you think the number of neurons in one hidden layer is also the number of higher-level features that your neural network learns up to that layers, so the activations of one layer also form a column vector, and the error terms of one layer also form a column vector. Hence, the shape of the vector $\\Delta_{next}$ formed by many error terms $\\delta_k$ of the next layer  is $(k,1)$, and the shape of that dot product output vector $\\Delta$ formed by many error terms $\\delta_j$ of the current layer is $(j,1)$, so $\\Delta = \\textbf{W}_{next}^T\\cdot\\Delta_{next}$ ($\\textbf{W}_{next}$ is the first argument of $numpy.dot()$).\n",
    "  2. The second tricky part is $\\eta\\delta_jx_{ij}$. I have seen some students use $numpy.dot()$ instead of element-wise multiplication here for $\\delta_jx_{ij}$ since they think it doesn't make sense if we do element-wise multiplication between a vector and a matrix, and they tested the $numpy.dot()$ and it ran correctly in the logistic regression exercise (because it is only one output so $numpy.sum()$ of it is equal to itself!). But now we learned about broadcasting and we knew that it should be an element-wise multiplication, not the $numpy.dot()$.\n",
    "<br/>\n",
    "\n",
    "So the final vectorized version is somehow like this: $\\textbf{W} = \\textbf{W} + \\eta * (\\textbf{o}*(1-\\textbf{o})*np.dot(\\textbf{W}_{next}^T,\\Delta_{next})) * \\textbf{X}$\n",
    "<br/>\n",
    "\n",
    "Feel free to check the shape compatibility by pens and papers. Please note that $\\textbf{X}$ here is not the input vector $\\textbf{x}$ but it is the inputs of this current layer (which is the matrix of the activations from the previous layers).Of course, I don't recommend to include everything on one line like this, it's just served as an illustration for our vectorization.\n",
    "\n",
    "__Vectorization of $m$ training instances (mini-batch training)__:\n",
    "<br/> We learned from the practical lecture that mini-batch training is the compromising solution between batch training and online training (or stochastic gradient descent - SGD). Mini-batch training is faster than batch training and it is more stable than SGD. And the nice thing is that we can also vectorize an iteration instead of using a for-loop through every instances of that mini-batch. Assume that mini-batch size is $m$ and the number of features for each instance is $n$, we can now have the matrix of inputs $\\textbf{X}$ with the shape $(n, m)$. Please remember this convention: the number of training instances is the number of columns in that matrix, and the number of row in that matrix is the number of input features. This convention is compatible with the convention we talked before as the input feature vector of one instance is a column vector!    "
   ]
  },
  {
   "cell_type": "markdown",
   "metadata": {
    "collapsed": true
   },
   "source": [
    "## Example: Dropout\n",
    "\n",
    "In this example, we will combine what we learned on $numpy.random$ package and _vectorization_ to implement Dropout."
   ]
  },
  {
   "cell_type": "markdown",
   "metadata": {},
   "source": [
    "<img src=\"../Images/dropout.png\" style=\"width:679px;height:321px\">"
   ]
  },
  {
   "cell_type": "markdown",
   "metadata": {},
   "source": [
    "You all know from the practical lecture that __Dropout__[[Hinton et al., 2012](https://arxiv.org/pdf/1207.0580.pdf)] is a good regularization method. During the forward phase of our training, we drop some neurons by a probability $p$ so that there is no incoming and outgoing connections from those neurons, __only for that iteration__. In this example we are going to implement the forward step of the training for one layer with its activation ReLU. The following practical way works best with the activation functions which return 0 for the inputs of 0 (for almost good activation like ReLU, tanh,..), but just leave the generalization aside for now. The direction is to create some masked vector to decide which inputs to keep, which inputs we set to 0s. \n",
    "The steps are:\n",
    "  1. Initialize a random, uniform-distribute vector whose shape is the same as our layer, e.g. 100 neurons.\n",
    "  2. Create the masked vector by comparing our initialized vector with the dropout probability $p$. (In convention, this is actually a keeping probability).\n",
    "  3. Based on the masked vector, keep or zero-out the inputs of the layer (which are actually the outputs of the previous layer, or the input features, in case this layer is the first layer). \n",
    "  4. (Optional but helpful) Scale the inputs to compensate the dropped neurons. \n",
    "  \n",
    "__Try to do it yourself first on the cell below (fill in the 5 lines of code marked__ _#CODE HERE_ __) before looking at the solution in the next cell__."
   ]
  },
  {
   "cell_type": "code",
   "execution_count": 41,
   "metadata": {},
   "outputs": [
    {
     "name": "stdout",
     "output_type": "stream",
     "text": [
      "[[ 1.         -0.1424056 ]\n",
      " [-0.99921594  0.99999822]\n",
      " [ 0.99999907  0.99999793]]\n"
     ]
    }
   ],
   "source": [
    "np.random.seed(1234)\n",
    "\n",
    "dropout_p = 0.8                         # keep around 80% number of neurons\n",
    "\n",
    "A_prev = np.random.randn(100, 50)       # Activations from the previous layer, mini-batch training\n",
    "W = np.random.randn(30, 100)            # the previous layer has 100 neuron, \n",
    "                                        # the current layer to be dropped-out has 30 neurons\n",
    "b = np.random.randn(30, 1)\n",
    "\n",
    "# Dropout\n",
    "# CODE HERE                             # Initialize a random, uniform-distribute vector with the same shape\n",
    "# CODE HERE                             # Mask the drop-out: True (1) if we want to keep the corresponding neuron\n",
    "                                        # False (0) if the neuron is dropped out\n",
    "# CODE HERE                             # Apply the mask\n",
    "# CODE HERE                             # Scale the activation after dropping a number of neurons\n",
    "\n",
    "# Do the forward pass\n",
    "A = np.tanh(np.dot(W, A_prev) + b)\n",
    "\n",
    "print(A[3:6, 2:4])\n"
   ]
  },
  {
   "cell_type": "markdown",
   "metadata": {},
   "source": [
    "__If you implement correctly, the output should be:__\n",
    "<br/>\n",
    "[[ 1.&emsp;&emsp;&emsp;&emsp;&ensp;&ensp;-0.99841418]<br/>\n",
    " [-0.89187979&emsp;0.99999996]<br/>\n",
    " [ 1.&emsp;&emsp;&emsp;&emsp;&emsp;&ensp;0.99999776]]"
   ]
  },
  {
   "cell_type": "code",
   "execution_count": 42,
   "metadata": {},
   "outputs": [
    {
     "name": "stdout",
     "output_type": "stream",
     "text": [
      "[[ 1.         -0.99841418]\n",
      " [-0.89187979  0.99999996]\n",
      " [ 1.          0.99999776]]\n"
     ]
    }
   ],
   "source": [
    "np.random.seed(1234)\n",
    "\n",
    "dropout_p = 0.8                         # keep around 80% number of neurons\n",
    "\n",
    "A_prev = np.random.randn(100, 50)       # Activations from the previous layer, mini-batch training\n",
    "W = np.random.randn(30, 100)            # the previous layer has 100 neuron, \n",
    "                                        # the current layer to be dropped-out has 30 neurons\n",
    "b = np.random.randn(30, 1)\n",
    "\n",
    "# Dropout\n",
    "dropped = np.random.rand(100, 50)       # Initialize a random, uniform-distribute vector with the same shape\n",
    "masked = (dropped < dropout_p)          # Mask the drop-out: True (1) if we want to keep the corresponding neuron\n",
    "                                        # False (0) if the neuron is dropped out\n",
    "A_prev = A_prev * masked                # Apply the mask\n",
    "A_prev = A_prev / dropout_p             # Scale the activation after dropping a number of neurons\n",
    "\n",
    "# Do the forward pass\n",
    "A = np.tanh(np.dot(W, A_prev) + b)\n",
    "\n",
    "print(A[3:6, 2:4])\n"
   ]
  }
 ],
 "metadata": {
  "kernelspec": {
   "display_name": "Python 3",
   "language": "python",
   "name": "python3"
  },
  "language_info": {
   "codemirror_mode": {
    "name": "ipython",
    "version": 3
   },
   "file_extension": ".py",
   "mimetype": "text/x-python",
   "name": "python",
   "nbconvert_exporter": "python",
   "pygments_lexer": "ipython3",
   "version": "3.6.7"
  }
 },
 "nbformat": 4,
 "nbformat_minor": 1
}
